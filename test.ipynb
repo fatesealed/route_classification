{
 "cells": [
  {
   "cell_type": "code",
   "execution_count": 1,
   "outputs": [],
   "source": [
    "import torch\n",
    "import pandas as pd\n",
    "import numpy as np\n",
    "from torch.utils.data import Dataset, DataLoader, random_split\n",
    "import pickle as pkl\n",
    "import tqdm\n",
    "import models.TextCNN as model\n",
    "\n",
    "np.random.seed(3407)\n",
    "torch.manual_seed(3407)\n",
    "torch.cuda.manual_seed_all(3407)\n",
    "torch.backends.cudnn.deterministic = True  # 保证每次结果一样\n",
    "torch.backends.cudnn.benchmark = False\n",
    "UNK, PAD = '<UNK>', '<PAD>'  # 未知字，padding符号"
   ],
   "metadata": {
    "collapsed": false,
    "ExecuteTime": {
     "end_time": "2023-11-13T03:52:42.155828400Z",
     "start_time": "2023-11-13T03:52:38.633698800Z"
    }
   },
   "id": "b0570a3e0c8f1240"
  },
  {
   "cell_type": "code",
   "execution_count": 2,
   "outputs": [],
   "source": [
    "config = model.Config('ship_data', 'embedding.npz')"
   ],
   "metadata": {
    "collapsed": false,
    "ExecuteTime": {
     "end_time": "2023-11-13T03:52:44.795175700Z",
     "start_time": "2023-11-13T03:52:44.715158600Z"
    }
   },
   "id": "3b301ca6a7831b02"
  },
  {
   "cell_type": "code",
   "execution_count": 3,
   "outputs": [],
   "source": [
    "import torch\n",
    "import torch.nn as nn\n",
    "import torch.nn.functional as f\n",
    "\n",
    "\n",
    "def conv_and_pool(x, conv):\n",
    "    x = f.relu(conv(x))\n",
    "    x = x.squeeze(3)\n",
    "    x = f.max_pool1d(x, x.size(2)).squeeze(2)\n",
    "    return x\n",
    "\n",
    "\n",
    "class Model(nn.Module):\n",
    "    def __init__(self, config):\n",
    "        super(Model, self).__init__()\n",
    "        if config.embedding_pretrained is not None:\n",
    "            self.embedding_1 = nn.Embedding.from_pretrained(config.embedding_pretrained, freeze=False)\n",
    "            self.embedding_2 = nn.Embedding.from_pretrained(config.embedding_pretrained, freeze=False)\n",
    "        else:\n",
    "            self.embedding_1 = nn.Embedding(config.n_vocab, config.embed, padding_idx=config.n_vocab - 1)\n",
    "            self.embedding_2 = nn.Embedding(config.n_vocab, config.embed, padding_idx=config.n_vocab - 1)\n",
    "        self.embedding_2.requires_grad = False  # 第二层不训练\n",
    "        self.convs = nn.ModuleList(\n",
    "            [nn.Conv2d(1, config.num_filters, (k, config.embed * 2)) for k in config.filter_sizes])\n",
    "        self.dropout = nn.Dropout(config.dropout)\n",
    "        self.fc_layers = nn.Sequential(\n",
    "            nn.Linear(config.num_filters * len(config.filter_sizes),\n",
    "                      config.num_filters * len(config.filter_sizes) // 2),\n",
    "            nn.Linear(config.num_filters * len(config.filter_sizes) // 2,\n",
    "                      config.num_filters * len(config.filter_sizes) // 4),\n",
    "            nn.Linear(config.num_filters * len(config.filter_sizes) // 4, config.num_classes))\n",
    "\n",
    "    def forward(self, x):\n",
    "        out = torch.cat((self.embedding_1(x), self.embedding_2(x)), dim=2)\n",
    "        out = out.unsqueeze(1)  # 插入维度 进行卷积运算\n",
    "        out = torch.cat([conv_and_pool(out, conv) for conv in self.convs], 1)\n",
    "        out = self.dropout(out)\n",
    "        out = self.fc_layers(out)\n",
    "        return out"
   ],
   "metadata": {
    "collapsed": false,
    "ExecuteTime": {
     "end_time": "2023-11-13T03:52:48.858593500Z",
     "start_time": "2023-11-13T03:52:48.831789200Z"
    }
   },
   "id": "7356afec4a9de110"
  },
  {
   "cell_type": "code",
   "execution_count": 9,
   "outputs": [
    {
     "name": "stdout",
     "output_type": "stream",
     "text": [
      "Parameter containing:\n",
      "tensor([[-0.1947,  0.2029, -0.0429,  ..., -0.1167,  0.1597, -0.2722],\n",
      "        [ 0.0180,  0.4529,  0.1710,  ...,  0.2676, -0.0529, -0.1175],\n",
      "        [ 0.0116,  0.2388, -0.0969,  ...,  0.0824, -0.0366, -0.0747],\n",
      "        ...,\n",
      "        [-0.0376,  0.0355, -0.0811,  ..., -0.1944, -0.0868, -0.0264],\n",
      "        [ 0.9753,  0.4909,  0.2037,  ...,  0.6229,  0.5855,  0.7365],\n",
      "        [ 0.7958,  0.9731,  0.9490,  ...,  0.0783,  0.8704,  0.6228]],\n",
      "       device='cuda:0', requires_grad=True)\n"
     ]
    }
   ],
   "source": [
    "model = Model(config).to(config.device)\n",
    "model.embedding_2.requires_grad_(False)\n",
    "print(model.embedding_2.weight)"
   ],
   "metadata": {
    "collapsed": false,
    "ExecuteTime": {
     "end_time": "2023-11-13T04:06:25.409555800Z",
     "start_time": "2023-11-13T04:06:23.496850Z"
    }
   },
   "id": "d0df6d80876a031a"
  },
  {
   "cell_type": "code",
   "execution_count": 85,
   "outputs": [
    {
     "name": "stdout",
     "output_type": "stream",
     "text": [
      "torch.Size([64, 8])\n"
     ]
    },
    {
     "ename": "TypeError",
     "evalue": "'torch.Size' object is not callable",
     "output_type": "error",
     "traceback": [
      "\u001B[1;31m---------------------------------------------------------------------------\u001B[0m",
      "\u001B[1;31mTypeError\u001B[0m                                 Traceback (most recent call last)",
      "Cell \u001B[1;32mIn[85], line 1\u001B[0m\n\u001B[1;32m----> 1\u001B[0m \u001B[43mmodel\u001B[49m\u001B[43m(\u001B[49m\u001B[43mtorch\u001B[49m\u001B[38;5;241;43m.\u001B[39;49m\u001B[43mrandint\u001B[49m\u001B[43m(\u001B[49m\u001B[38;5;241;43m1\u001B[39;49m\u001B[43m,\u001B[49m\u001B[43m \u001B[49m\u001B[38;5;241;43m10\u001B[39;49m\u001B[43m,\u001B[49m\u001B[43m \u001B[49m\u001B[43m[\u001B[49m\u001B[38;5;241;43m64\u001B[39;49m\u001B[43m,\u001B[49m\u001B[43m \u001B[49m\u001B[38;5;241;43m30\u001B[39;49m\u001B[43m]\u001B[49m\u001B[43m)\u001B[49m\u001B[38;5;241;43m.\u001B[39;49m\u001B[43mto\u001B[49m\u001B[43m(\u001B[49m\u001B[43mconfig\u001B[49m\u001B[38;5;241;43m.\u001B[39;49m\u001B[43mdevice\u001B[49m\u001B[43m)\u001B[49m\u001B[43m)\u001B[49m\u001B[38;5;241;43m.\u001B[39;49m\u001B[43mshape\u001B[49m\u001B[43m(\u001B[49m\u001B[43m)\u001B[49m\n",
      "\u001B[1;31mTypeError\u001B[0m: 'torch.Size' object is not callable"
     ]
    }
   ],
   "source": [
    "model(torch.randint(1, 10, [64, 30]).to(config.device)).shape()"
   ],
   "metadata": {
    "collapsed": false,
    "ExecuteTime": {
     "end_time": "2023-11-07T05:40:00.882583800Z",
     "start_time": "2023-11-07T05:40:00.866439300Z"
    }
   },
   "id": "b9cd53dec652800c"
  },
  {
   "cell_type": "code",
   "execution_count": null,
   "outputs": [],
   "source": [],
   "metadata": {
    "collapsed": false
   },
   "id": "7af81258ec20d49a"
  }
 ],
 "metadata": {
  "kernelspec": {
   "display_name": "Python 3",
   "language": "python",
   "name": "python3"
  },
  "language_info": {
   "codemirror_mode": {
    "name": "ipython",
    "version": 2
   },
   "file_extension": ".py",
   "mimetype": "text/x-python",
   "name": "python",
   "nbconvert_exporter": "python",
   "pygments_lexer": "ipython2",
   "version": "2.7.6"
  }
 },
 "nbformat": 4,
 "nbformat_minor": 5
}
