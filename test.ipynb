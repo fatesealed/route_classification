{
 "cells": [
  {
   "cell_type": "code",
   "execution_count": 3,
   "outputs": [],
   "source": [
    "import torch\n",
    "import pandas as pd\n",
    "import numpy as np\n",
    "from torch.utils.data import Dataset, DataLoader, random_split\n",
    "import pickle as pkl\n",
    "import tqdm\n",
    "import models.TextCNN as model\n",
    "\n",
    "np.random.seed(3407)\n",
    "torch.manual_seed(3407)\n",
    "torch.cuda.manual_seed_all(3407)\n",
    "torch.backends.cudnn.deterministic = True  # 保证每次结果一样\n",
    "torch.backends.cudnn.benchmark = False\n",
    "UNK, PAD = '<UNK>', '<PAD>'  # 未知字，padding符号"
   ],
   "metadata": {
    "collapsed": false,
    "ExecuteTime": {
     "end_time": "2023-11-07T03:51:04.266034600Z",
     "start_time": "2023-11-07T03:51:04.255299600Z"
    }
   },
   "id": "b0570a3e0c8f1240"
  },
  {
   "cell_type": "code",
   "execution_count": 4,
   "outputs": [],
   "source": [
    "config = model.Config('ship_data', 'embedding.npz')"
   ],
   "metadata": {
    "collapsed": false,
    "ExecuteTime": {
     "end_time": "2023-11-07T03:51:06.184051500Z",
     "start_time": "2023-11-07T03:51:06.140101600Z"
    }
   },
   "id": "3b301ca6a7831b02"
  },
  {
   "cell_type": "code",
   "execution_count": 34,
   "outputs": [],
   "source": [
    "# 自定义数据集类，需要实现__len__和__getitem__方法\n",
    "class CustomDataset(Dataset):\n",
    "    def __init__(self, data_path, pad_size):\n",
    "        tokenizer = lambda x: x.split('|')  # word-level\n",
    "        vocab = pkl.load(open(config.vocab_path, 'rb'))  # 打开词表\n",
    "        print(f\"词表大小: {len(vocab)}\")\n",
    "        class_int_dict = {item: i + 1 for i, item in enumerate(config.class_list)}\n",
    "        df = pd.read_csv(data_path, usecols=['path', 'cluster'])  # 读取csv\n",
    "        contents = []\n",
    "        for index, row in df.iterrows():\n",
    "            content, label = row['path'], row['cluster']\n",
    "            token = tokenizer(content)\n",
    "            seq_len = len(token)\n",
    "            if pad_size:  # 统一长度\n",
    "                if seq_len < pad_size:\n",
    "                    token.extend([PAD] * (pad_size - len(token)))\n",
    "                else:\n",
    "                    token = token[:pad_size]\n",
    "                    seq_len = pad_size\n",
    "            words_line = []\n",
    "            for word in token:\n",
    "                words_line.append(vocab.get(word, vocab.get(UNK)))\n",
    "            contents.append((words_line, class_int_dict[label], seq_len))\n",
    "        self.data = contents\n",
    "\n",
    "    def __len__(self):\n",
    "        return len(self.data)\n",
    "\n",
    "    def __getitem__(self, i):\n",
    "        return torch.LongTensor(self.data[i][0]), self.data[i][1], self.data[i][2]\n"
   ],
   "metadata": {
    "collapsed": false,
    "ExecuteTime": {
     "end_time": "2023-11-07T04:02:03.979097Z",
     "start_time": "2023-11-07T04:02:03.967734200Z"
    }
   },
   "id": "4893f94c381dbdb1"
  },
  {
   "cell_type": "code",
   "execution_count": 35,
   "outputs": [
    {
     "name": "stdout",
     "output_type": "stream",
     "text": [
      "词表大小: 727\n"
     ]
    }
   ],
   "source": [
    "# 创建自定义数据集\n",
    "dataset = CustomDataset(data_path='./ship_data/test.csv', pad_size=30)\n",
    "\n",
    "# 定义拆分比例\n",
    "train_size = int(0.9 * len(dataset))\n",
    "val_size = int(0.05 * len(dataset))\n",
    "test_size = len(dataset) - train_size - val_size\n",
    "\n",
    "# 使用random_split函数拆分数据集\n",
    "train_dataset, val_dataset, test_dataset = random_split(dataset, [train_size, val_size, test_size])\n",
    "\n",
    "# 创建数据加载器\n",
    "train_loader = DataLoader(train_dataset, batch_size=2, shuffle=True)\n",
    "val_loader = DataLoader(val_dataset, batch_size=2)\n",
    "test_loader = DataLoader(test_dataset, batch_size=2)\n",
    "\n",
    "# 现在，你可以使用train_loader、val_loader和test_loader来迭代你的数据集进行训练、验证和测试。"
   ],
   "metadata": {
    "collapsed": false,
    "ExecuteTime": {
     "end_time": "2023-11-07T04:02:04.326578400Z",
     "start_time": "2023-11-07T04:02:04.316155700Z"
    }
   },
   "id": "72dec1e8b9dcf479"
  },
  {
   "cell_type": "code",
   "execution_count": 37,
   "outputs": [
    {
     "name": "stdout",
     "output_type": "stream",
     "text": [
      "tensor([[ 96,  96, 281, 271, 248, 235, 203, 168, 112, 726, 726, 726, 726, 726,\n",
      "         726, 726, 726, 726, 726, 726, 726, 726, 726, 726, 726, 726, 726, 726,\n",
      "         726, 726],\n",
      "        [ 74,   4,   2,   2,  14,  35, 229, 340, 347, 327, 315, 279, 304,  81,\n",
      "         726, 726, 726, 726, 726, 726, 726, 726, 726, 726, 726, 726, 726, 726,\n",
      "         726, 726]]) tensor([3, 1]) tensor([ 9, 14])\n"
     ]
    }
   ],
   "source": [
    "for i, (x, y, _) in enumerate(train_loader):\n",
    "    print(x, y, _)\n",
    "    break"
   ],
   "metadata": {
    "collapsed": false,
    "ExecuteTime": {
     "end_time": "2023-11-07T04:02:14.500180800Z",
     "start_time": "2023-11-07T04:02:14.488363500Z"
    }
   },
   "id": "cc11cc75b7b9b975"
  },
  {
   "cell_type": "code",
   "execution_count": 3,
   "outputs": [],
   "source": [
    "# 定义拆分比例\n",
    "train_size = int(0.9 * len(data))\n",
    "val_size = int(0.05 * len(data))\n",
    "test_size = len(data) - train_size - val_size\n",
    "\n",
    "# 使用random_split函数拆分数据集\n",
    "train_dataset, val_dataset, test_dataset = random_split(data, [train_size, val_size, test_size])"
   ],
   "metadata": {
    "collapsed": false,
    "ExecuteTime": {
     "end_time": "2023-11-07T02:07:36.631670800Z",
     "start_time": "2023-11-07T02:07:36.629165200Z"
    }
   },
   "id": "f61979da073c225d"
  },
  {
   "cell_type": "code",
   "execution_count": 186,
   "outputs": [],
   "source": [
    "train_loader = DataLoader(train_dataset, batch_size=3, shuffle=True)\n",
    "val_loader = DataLoader(val_dataset, batch_size=3)\n",
    "test_loader = DataLoader(test_dataset, batch_size=3)"
   ],
   "metadata": {
    "collapsed": false,
    "ExecuteTime": {
     "end_time": "2023-11-07T03:32:21.454045200Z",
     "start_time": "2023-11-07T03:32:21.450784900Z"
    }
   },
   "id": "85ba97e72fd9af23"
  },
  {
   "cell_type": "code",
   "execution_count": 195,
   "outputs": [
    {
     "data": {
      "text/plain": "int"
     },
     "execution_count": 195,
     "metadata": {},
     "output_type": "execute_result"
    }
   ],
   "source": [
    "type(train_dataset[0][2])"
   ],
   "metadata": {
    "collapsed": false,
    "ExecuteTime": {
     "end_time": "2023-11-07T03:35:58.361150600Z",
     "start_time": "2023-11-07T03:35:58.359147400Z"
    }
   },
   "id": "a1b288b995edb683"
  },
  {
   "cell_type": "markdown",
   "source": [],
   "metadata": {
    "collapsed": false
   },
   "id": "5d04dd07065e1bc6"
  },
  {
   "cell_type": "code",
   "execution_count": 184,
   "outputs": [
    {
     "data": {
      "text/plain": "30"
     },
     "execution_count": 184,
     "metadata": {},
     "output_type": "execute_result"
    }
   ],
   "source": [
    "len(train_dataset[0][0])"
   ],
   "metadata": {
    "collapsed": false,
    "ExecuteTime": {
     "end_time": "2023-11-07T03:28:48.201177700Z",
     "start_time": "2023-11-07T03:28:48.194910300Z"
    }
   },
   "id": "83498486933552c8"
  },
  {
   "cell_type": "code",
   "execution_count": 81,
   "outputs": [],
   "source": [
    "import torch\n",
    "import torch.nn as nn\n",
    "import torch.nn.functional as f\n",
    "import numpy as np\n",
    "\n",
    "\n",
    "def conv_and_pool(x, conv):\n",
    "    x = f.relu(conv(x))\n",
    "    x = x.squeeze(3)\n",
    "    x = f.max_pool1d(x, x.size(2)).squeeze(2)\n",
    "    return x\n",
    "\n",
    "\n",
    "class Model(nn.Module):\n",
    "    def __init__(self, config):\n",
    "        super(Model, self).__init__()\n",
    "        if config.embedding_pretrained is not None:\n",
    "            self.embedding = nn.Embedding.from_pretrained(config.embedding_pretrained, freeze=False)\n",
    "        else:\n",
    "            self.embedding = nn.Embedding(config.n_vocab, config.embed, padding_idx=config.n_vocab - 1)\n",
    "        self.convs = nn.ModuleList(\n",
    "            [nn.Conv2d(1, config.num_filters, (k, config.embed)) for k in config.filter_sizes])\n",
    "        self.dropout = nn.Dropout(config.dropout)\n",
    "        self.fc1 = nn.Linear(config.num_filters * len(config.filter_sizes), config.num_filters * len(config.filter_sizes)//2)\n",
    "        self.fc2=nn.Linear(config.num_filters * len(config.filter_sizes)//2,config.num_filters * len(config.filter_sizes)//4)\n",
    "        self.fc3=nn.Linear(config.num_filters * len(config.filter_sizes)//4,config.num_classes)\n",
    "\n",
    "    def forward(self, x):\n",
    "        out = self.embedding(x)\n",
    "        out = out.unsqueeze(1)  #插入维度 进行卷积运算\n",
    "        out = torch.cat([conv_and_pool(out, conv) for conv in self.convs], 1)\n",
    "        out = self.dropout(out)\n",
    "        out = self.fc3(self.fc2(self.fc1(out)))\n",
    "        print(out.shape)\n",
    "        return out"
   ],
   "metadata": {
    "collapsed": false,
    "ExecuteTime": {
     "end_time": "2023-11-07T05:39:32.034466Z",
     "start_time": "2023-11-07T05:39:32.025464700Z"
    }
   },
   "id": "7356afec4a9de110"
  },
  {
   "cell_type": "code",
   "execution_count": 82,
   "outputs": [
    {
     "name": "stdout",
     "output_type": "stream",
     "text": [
      "<bound method Module.parameters of Model(\n",
      "  (embedding): Embedding(727, 100)\n",
      "  (convs): ModuleList(\n",
      "    (0): Conv2d(1, 256, kernel_size=(2, 100), stride=(1, 1))\n",
      "    (1): Conv2d(1, 256, kernel_size=(3, 100), stride=(1, 1))\n",
      "    (2): Conv2d(1, 256, kernel_size=(4, 100), stride=(1, 1))\n",
      "    (3): Conv2d(1, 256, kernel_size=(5, 100), stride=(1, 1))\n",
      "  )\n",
      "  (dropout): Dropout(p=0.5, inplace=False)\n",
      "  (fc1): Linear(in_features=1024, out_features=512, bias=True)\n",
      "  (fc2): Linear(in_features=512, out_features=256, bias=True)\n",
      "  (fc3): Linear(in_features=256, out_features=8, bias=True)\n",
      ")>\n"
     ]
    }
   ],
   "source": [
    "model = Model(config).to(config.device)\n",
    "print(model.parameters)"
   ],
   "metadata": {
    "collapsed": false,
    "ExecuteTime": {
     "end_time": "2023-11-07T05:39:32.304086Z",
     "start_time": "2023-11-07T05:39:32.281603500Z"
    }
   },
   "id": "d0df6d80876a031a"
  },
  {
   "cell_type": "code",
   "execution_count": 85,
   "outputs": [
    {
     "name": "stdout",
     "output_type": "stream",
     "text": [
      "torch.Size([64, 8])\n"
     ]
    },
    {
     "ename": "TypeError",
     "evalue": "'torch.Size' object is not callable",
     "output_type": "error",
     "traceback": [
      "\u001B[1;31m---------------------------------------------------------------------------\u001B[0m",
      "\u001B[1;31mTypeError\u001B[0m                                 Traceback (most recent call last)",
      "Cell \u001B[1;32mIn[85], line 1\u001B[0m\n\u001B[1;32m----> 1\u001B[0m \u001B[43mmodel\u001B[49m\u001B[43m(\u001B[49m\u001B[43mtorch\u001B[49m\u001B[38;5;241;43m.\u001B[39;49m\u001B[43mrandint\u001B[49m\u001B[43m(\u001B[49m\u001B[38;5;241;43m1\u001B[39;49m\u001B[43m,\u001B[49m\u001B[43m \u001B[49m\u001B[38;5;241;43m10\u001B[39;49m\u001B[43m,\u001B[49m\u001B[43m \u001B[49m\u001B[43m[\u001B[49m\u001B[38;5;241;43m64\u001B[39;49m\u001B[43m,\u001B[49m\u001B[43m \u001B[49m\u001B[38;5;241;43m30\u001B[39;49m\u001B[43m]\u001B[49m\u001B[43m)\u001B[49m\u001B[38;5;241;43m.\u001B[39;49m\u001B[43mto\u001B[49m\u001B[43m(\u001B[49m\u001B[43mconfig\u001B[49m\u001B[38;5;241;43m.\u001B[39;49m\u001B[43mdevice\u001B[49m\u001B[43m)\u001B[49m\u001B[43m)\u001B[49m\u001B[38;5;241;43m.\u001B[39;49m\u001B[43mshape\u001B[49m\u001B[43m(\u001B[49m\u001B[43m)\u001B[49m\n",
      "\u001B[1;31mTypeError\u001B[0m: 'torch.Size' object is not callable"
     ]
    }
   ],
   "source": [
    "model(torch.randint(1, 10, [64, 30]).to(config.device)).shape()"
   ],
   "metadata": {
    "collapsed": false,
    "ExecuteTime": {
     "end_time": "2023-11-07T05:40:00.882583800Z",
     "start_time": "2023-11-07T05:40:00.866439300Z"
    }
   },
   "id": "b9cd53dec652800c"
  },
  {
   "cell_type": "code",
   "execution_count": null,
   "outputs": [],
   "source": [],
   "metadata": {
    "collapsed": false
   },
   "id": "7af81258ec20d49a"
  }
 ],
 "metadata": {
  "kernelspec": {
   "display_name": "Python 3",
   "language": "python",
   "name": "python3"
  },
  "language_info": {
   "codemirror_mode": {
    "name": "ipython",
    "version": 2
   },
   "file_extension": ".py",
   "mimetype": "text/x-python",
   "name": "python",
   "nbconvert_exporter": "python",
   "pygments_lexer": "ipython2",
   "version": "2.7.6"
  }
 },
 "nbformat": 4,
 "nbformat_minor": 5
}
