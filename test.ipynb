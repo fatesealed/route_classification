{
 "cells": [
  {
   "cell_type": "code",
   "execution_count": null,
   "outputs": [],
   "source": [
    "import torch\n",
    "import pandas as pd\n",
    "import numpy as np\n",
    "from torch.utils.data import Dataset, DataLoader, random_split\n",
    "import pickle as pkl\n",
    "import tqdm\n",
    "import models.TextCNN as model\n",
    "\n",
    "np.random.seed(3407)\n",
    "torch.manual_seed(3407)\n",
    "torch.cuda.manual_seed_all(3407)\n",
    "torch.backends.cudnn.deterministic = True  # 保证每次结果一样\n",
    "torch.backends.cudnn.benchmark = False\n",
    "UNK, PAD = '<UNK>', '<PAD>'  # 未知字，padding符号"
   ],
   "metadata": {
    "collapsed": false
   },
   "id": "b0570a3e0c8f1240"
  },
  {
   "cell_type": "code",
   "execution_count": null,
   "outputs": [],
   "source": [
    "config = model.Config('ship_data', 'embedding.npz')"
   ],
   "metadata": {
    "collapsed": false
   },
   "id": "3b301ca6a7831b02"
  },
  {
   "cell_type": "code",
   "execution_count": 24,
   "outputs": [],
   "source": [
    "# coding: UTF-8\n",
    "import numpy as np\n",
    "import torch\n",
    "import torch.nn as nn\n",
    "import torch.nn.functional as f\n",
    "\n",
    "\n",
    "class Config(object):\n",
    "    \"\"\"配置参数\"\"\"\n",
    "\n",
    "    def __init__(self, dataset, embedding, notes):\n",
    "        self.model_name = 'TextCNN'\n",
    "        self.train_path = dataset + '/train_dataset.csv'\n",
    "        self.val_path = dataset + '/val_dataset.csv'\n",
    "        self.test_path = dataset + '/test_dataset.csv'\n",
    "        self.class_list = [x.strip() for x in\n",
    "                           open(f'{dataset}/pre_data/class.txt', encoding='utf-8').readlines()]  # 类别名单\n",
    "        self.vocab_path = dataset + '/pre_data/vocab.pkl'  # 词表\n",
    "        self.save_path = f'./result/{self.model_name}_{notes}.ckpt'  # 模型训练结果\n",
    "        self.log_path = dataset + '/log/' + self.model_name\n",
    "        self.embedding_pretrained = torch.tensor(\n",
    "            np.load(dataset + '/pre_data/' + embedding)[\"embeddings\"].astype('float32')) \\\n",
    "            if embedding != 'random' else None  # 预训练词向量\n",
    "        self.device = torch.device('cuda' if torch.cuda.is_available() else 'cpu')  # 设备\n",
    "        self.is_random = \"random\" if embedding == \"random\" else \"not_random\"\n",
    "\n",
    "        self.dropout = 0.5  # 随机失活\n",
    "        self.require_improvement = 1  # 若超过1000batch效果还没提升，则提前结束训练\n",
    "        self.num_classes = len(self.class_list)  # 类别数\n",
    "        self.n_vocab = 0  # 词表大小，在运行时赋值\n",
    "        self.num_epochs = 1000  # epoch数\n",
    "        self.batch_size = 512  # mini-batch大小\n",
    "        self.pad_size = 30  # 每句话处理成的长度(短填长切)\n",
    "        self.learning_rate = 1e-3  # 学习率\n",
    "        self.embed = self.embedding_pretrained.size(1) \\\n",
    "            if self.embedding_pretrained is not None else 20  # 字向量维度\n",
    "        self.filter_sizes = (2, 3, 4, 5)  # 卷积核尺寸\n",
    "        self.num_filters = 256  # 卷积核数量(channels数)\n",
    "\n",
    "\n",
    "'''Convolutional Neural Networks for Sentence Classification'''\n",
    "\n",
    "\n",
    "def conv_and_pool(x, conv):\n",
    "    x = f.relu(conv(x))\n",
    "    x = x.squeeze(3)\n",
    "    x = f.max_pool1d(x, x.size(2)).squeeze(2)\n",
    "    return x\n",
    "\n",
    "\n",
    "class Model(nn.Module):\n",
    "    def __init__(self, config):\n",
    "        super(Model, self).__init__()\n",
    "        if config.embedding_pretrained is not None:\n",
    "            self.embedding_1 = nn.Embedding.from_pretrained(config.embedding_pretrained, freeze=False)\n",
    "        else:\n",
    "            self.embedding_1 = nn.Embedding(config.n_vocab, config.embed, padding_idx=config.n_vocab - 1)\n",
    "        self.convs = nn.ModuleList(\n",
    "            [nn.Conv2d(1, config.num_filters, (k, config.embed)) for k in config.filter_sizes])\n",
    "        self.dropout = nn.Dropout(config.dropout)\n",
    "        self.fc_layers = nn.Sequential(\n",
    "            nn.Linear(config.num_filters * len(config.filter_sizes),\n",
    "                      config.num_filters * len(config.filter_sizes) // 2),\n",
    "            nn.Linear(config.num_filters * len(config.filter_sizes) // 2,\n",
    "                      config.num_filters * len(config.filter_sizes) // 4),\n",
    "            nn.Linear(config.num_filters * len(config.filter_sizes) // 4, config.num_classes))\n",
    "\n",
    "    def forward(self, x):\n",
    "        out = self.embedding_1(x)\n",
    "        out = out.unsqueeze(1)  # 插入维度 进行卷积运算\n",
    "        out = torch.cat([conv_and_pool(out, conv) for conv in self.convs], 1)\n",
    "        out = self.dropout(out)\n",
    "        out = self.fc_layers(out)\n",
    "        return out\n"
   ],
   "metadata": {
    "collapsed": false,
    "ExecuteTime": {
     "end_time": "2023-11-15T13:31:33.902189300Z",
     "start_time": "2023-11-15T13:31:33.877992600Z"
    }
   },
   "id": "9427620bb8cd017a"
  },
  {
   "cell_type": "code",
   "execution_count": 5,
   "outputs": [],
   "source": [
    "# coding: UTF-8\n",
    "import argparse\n",
    "import pickle as pkl\n",
    "from importlib import import_module\n",
    "\n",
    "import numpy as np\n",
    "import torch\n",
    "from torch.utils.data import DataLoader\n",
    "from torchinfo import summary\n",
    "\n",
    "from train_eval import train, init_network\n",
    "from utils import CustomDataset\n",
    "\n",
    "# 随机种子设置\n",
    "np.random.seed(3407)\n",
    "torch.manual_seed(3407)\n",
    "torch.cuda.manual_seed_all(3407)\n",
    "torch.backends.cudnn.deterministic = True\n",
    "torch.backends.cudnn.benchmark = False\n",
    "\n",
    "dataset = 'ship_data'\n",
    "embedding = 'embedding.npz'\n",
    "\n",
    "notes = 'test'\n",
    "model_name = 'TextCNN'\n",
    "\n",
    "config = Config(dataset, embedding, notes)\n",
    "\n",
    "# 创建自定义数据集\n",
    "train_dataset = CustomDataset(config, data_type='test')\n",
    "val_dataset = CustomDataset(config, data_type='val')\n",
    "vocab = pkl.load(open(config.vocab_path, 'rb'))\n",
    "\n",
    "# 数据加载器\n",
    "train_loader = DataLoader(train_dataset, batch_size=config.batch_size, shuffle=True)\n",
    "val_loader = DataLoader(val_dataset, batch_size=config.batch_size)\n",
    "\n"
   ],
   "metadata": {
    "collapsed": false,
    "ExecuteTime": {
     "end_time": "2023-11-15T13:17:59.751957900Z",
     "start_time": "2023-11-15T13:17:47.335435400Z"
    }
   },
   "id": "7356afec4a9de110"
  },
  {
   "cell_type": "code",
   "execution_count": 25,
   "outputs": [
    {
     "name": "stdout",
     "output_type": "stream",
     "text": [
      "==========================================================================================\n",
      "Layer (type:depth-idx)                   Output Shape              Param #\n",
      "==========================================================================================\n",
      "Model                                    [1, 5]                    --\n",
      "├─Embedding: 1-1                         [1, 30, 100]              72,700\n",
      "├─ModuleList: 1-2                        --                        --\n",
      "│    └─Conv2d: 2-1                       [1, 256, 29, 1]           51,456\n",
      "│    └─Conv2d: 2-2                       [1, 256, 28, 1]           77,056\n",
      "│    └─Conv2d: 2-3                       [1, 256, 27, 1]           102,656\n",
      "│    └─Conv2d: 2-4                       [1, 256, 26, 1]           128,256\n",
      "├─Dropout: 1-3                           [1, 1024]                 --\n",
      "├─Sequential: 1-4                        [1, 5]                    --\n",
      "│    └─Linear: 2-5                       [1, 512]                  524,800\n",
      "│    └─Linear: 2-6                       [1, 256]                  131,328\n",
      "│    └─Linear: 2-7                       [1, 5]                    1,285\n",
      "==========================================================================================\n",
      "Total params: 1,089,537\n",
      "Trainable params: 1,089,537\n",
      "Non-trainable params: 0\n",
      "Total mult-adds (Units.MEGABYTES): 10.49\n",
      "==========================================================================================\n",
      "Input size (MB): 0.00\n",
      "Forward/backward pass size (MB): 0.26\n",
      "Params size (MB): 4.36\n",
      "Estimated Total Size (MB): 4.61\n",
      "==========================================================================================\n"
     ]
    },
    {
     "ename": "AttributeError",
     "evalue": "'Model' object has no attribute 'embedding_2'",
     "output_type": "error",
     "traceback": [
      "\u001B[1;31m---------------------------------------------------------------------------\u001B[0m",
      "\u001B[1;31mAttributeError\u001B[0m                            Traceback (most recent call last)",
      "Cell \u001B[1;32mIn[25], line 10\u001B[0m\n\u001B[0;32m      7\u001B[0m     init_network(model)\n\u001B[0;32m      9\u001B[0m \u001B[38;5;28mprint\u001B[39m(summary(model, input_size\u001B[38;5;241m=\u001B[39m(\u001B[38;5;241m1\u001B[39m, \u001B[38;5;241m30\u001B[39m), dtypes\u001B[38;5;241m=\u001B[39m[torch\u001B[38;5;241m.\u001B[39mlong]))\n\u001B[1;32m---> 10\u001B[0m \u001B[38;5;28mprint\u001B[39m(\u001B[43mmodel\u001B[49m\u001B[38;5;241;43m.\u001B[39;49m\u001B[43membedding_2\u001B[49m\u001B[38;5;241m.\u001B[39mweight)\n\u001B[0;32m     11\u001B[0m train(config, model, train_loader, val_loader, notes)\n\u001B[0;32m     12\u001B[0m \u001B[38;5;28mprint\u001B[39m(model\u001B[38;5;241m.\u001B[39membedding_2\u001B[38;5;241m.\u001B[39mweight)\n",
      "File \u001B[1;32mD:\\anaconda\\envs\\hugging_face\\Lib\\site-packages\\torch\\nn\\modules\\module.py:1614\u001B[0m, in \u001B[0;36mModule.__getattr__\u001B[1;34m(self, name)\u001B[0m\n\u001B[0;32m   1612\u001B[0m     \u001B[38;5;28;01mif\u001B[39;00m name \u001B[38;5;129;01min\u001B[39;00m modules:\n\u001B[0;32m   1613\u001B[0m         \u001B[38;5;28;01mreturn\u001B[39;00m modules[name]\n\u001B[1;32m-> 1614\u001B[0m \u001B[38;5;28;01mraise\u001B[39;00m \u001B[38;5;167;01mAttributeError\u001B[39;00m(\u001B[38;5;124m\"\u001B[39m\u001B[38;5;124m'\u001B[39m\u001B[38;5;132;01m{}\u001B[39;00m\u001B[38;5;124m'\u001B[39m\u001B[38;5;124m object has no attribute \u001B[39m\u001B[38;5;124m'\u001B[39m\u001B[38;5;132;01m{}\u001B[39;00m\u001B[38;5;124m'\u001B[39m\u001B[38;5;124m\"\u001B[39m\u001B[38;5;241m.\u001B[39mformat(\n\u001B[0;32m   1615\u001B[0m     \u001B[38;5;28mtype\u001B[39m(\u001B[38;5;28mself\u001B[39m)\u001B[38;5;241m.\u001B[39m\u001B[38;5;18m__name__\u001B[39m, name))\n",
      "\u001B[1;31mAttributeError\u001B[0m: 'Model' object has no attribute 'embedding_2'"
     ]
    }
   ],
   "source": [
    "\n",
    "config = Config(dataset, embedding, notes)\n",
    "# 训练\n",
    "config.n_vocab = len(vocab)\n",
    "model = Model(config).to(config.device)\n",
    "# 初始化模型参数\n",
    "if model_name != 'Transformer':\n",
    "    init_network(model)\n",
    "\n",
    "print(summary(model, input_size=(1, 30), dtypes=[torch.long]))\n",
    "print(model.embedding_2.weight)\n",
    "train(config, model, train_loader, val_loader, notes)\n",
    "print(model.embedding_2.weight)"
   ],
   "metadata": {
    "collapsed": false,
    "ExecuteTime": {
     "end_time": "2023-11-15T13:31:37.387343600Z",
     "start_time": "2023-11-15T13:31:37.309007900Z"
    }
   },
   "id": "d0df6d80876a031a"
  },
  {
   "cell_type": "code",
   "execution_count": 29,
   "outputs": [
    {
     "data": {
      "text/plain": "torch.Size([64, 5])"
     },
     "execution_count": 29,
     "metadata": {},
     "output_type": "execute_result"
    }
   ],
   "source": [
    "model=Model(config)\n",
    "model(torch.randint(1, 10, [64, 30])).size()"
   ],
   "metadata": {
    "collapsed": false,
    "ExecuteTime": {
     "end_time": "2023-11-15T13:32:25.614719900Z",
     "start_time": "2023-11-15T13:32:25.584116100Z"
    }
   },
   "id": "b9cd53dec652800c"
  },
  {
   "cell_type": "code",
   "execution_count": null,
   "outputs": [],
   "source": [],
   "metadata": {
    "collapsed": false
   },
   "id": "674b818bc723cbe7"
  }
 ],
 "metadata": {
  "kernelspec": {
   "display_name": "Python 3",
   "language": "python",
   "name": "python3"
  },
  "language_info": {
   "codemirror_mode": {
    "name": "ipython",
    "version": 2
   },
   "file_extension": ".py",
   "mimetype": "text/x-python",
   "name": "python",
   "nbconvert_exporter": "python",
   "pygments_lexer": "ipython2",
   "version": "2.7.6"
  }
 },
 "nbformat": 4,
 "nbformat_minor": 5
}
