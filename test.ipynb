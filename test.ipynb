{
 "cells": [
  {
   "cell_type": "code",
   "execution_count": 3,
   "id": "initial_id",
   "metadata": {
    "collapsed": true,
    "ExecuteTime": {
     "end_time": "2023-11-20T11:33:20.661174600Z",
     "start_time": "2023-11-20T11:33:17.263305400Z"
    }
   },
   "outputs": [],
   "source": [
    "from importlib import import_module\n",
    "\n",
    "from torch.utils.data import DataLoader\n",
    "\n",
    "from train_eval import test\n",
    "from utils import CustomDataset, DataConfig\n",
    "\n",
    "import torch"
   ]
  },
  {
   "cell_type": "code",
   "execution_count": 9,
   "outputs": [],
   "source": [
    "def call(model_path, model_name='TextCNN', dataset='ship_data',\n",
    "         embedding='embedding.npz'):\n",
    "    model_module = import_module(f'models.{model_name}')\n",
    "    model_config = model_module.Config()\n",
    "    data_config = DataConfig(dataset, embedding)\n",
    "    test_dataset = CustomDataset(data_config, data_class='test')\n",
    "    test_loader = DataLoader(test_dataset, batch_size=model_config.batch_size)\n",
    "    model = model_module.Model(model_config, data_config).to(data_config.device)\n",
    "    test(data_config, model, test_loader, model_path)"
   ],
   "metadata": {
    "collapsed": false,
    "ExecuteTime": {
     "end_time": "2023-11-20T11:45:18.618943100Z",
     "start_time": "2023-11-20T11:45:18.606272600Z"
    }
   },
   "id": "8284de816861554b"
  },
  {
   "cell_type": "code",
   "execution_count": 10,
   "outputs": [
    {
     "name": "stdout",
     "output_type": "stream",
     "text": [
      "Test Loss:  0.19,  Test Acc: 93.92%\n",
      "Precision, Recall and F1-Score...\n",
      "              precision    recall  f1-score   support\n",
      "\n",
      "        散杂货船     0.9092    0.9528    0.9305     44333\n",
      "          渔船     0.9736    0.9855    0.9795     40276\n",
      "        集装箱船     0.9330    0.9157    0.9243     18656\n",
      "          油船     0.9562    0.8018    0.8722      6458\n",
      "       液体散货船     0.9420    0.7466    0.8330      5919\n",
      "\n",
      "    accuracy                         0.9392    115642\n",
      "   macro avg     0.9428    0.8805    0.9079    115642\n",
      "weighted avg     0.9398    0.9392    0.9383    115642\n",
      "\n",
      "Confusion Matrix...\n",
      "[[42240   862   950   141   140]\n",
      " [  552 39691    15    12     6]\n",
      " [ 1461    59 17084     6    46]\n",
      " [ 1080    88    32  5178    80]\n",
      " [ 1127    66   229    78  4419]]\n"
     ]
    }
   ],
   "source": [
    "call(model_path='./result/TextCNN_单层嵌入层.ckpt')"
   ],
   "metadata": {
    "collapsed": false,
    "ExecuteTime": {
     "end_time": "2023-11-20T11:45:28.727667100Z",
     "start_time": "2023-11-20T11:45:21.003659600Z"
    }
   },
   "id": "8c7a0b1ebdcb955a"
  }
 ],
 "metadata": {
  "kernelspec": {
   "display_name": "Python 3",
   "language": "python",
   "name": "python3"
  },
  "language_info": {
   "codemirror_mode": {
    "name": "ipython",
    "version": 2
   },
   "file_extension": ".py",
   "mimetype": "text/x-python",
   "name": "python",
   "nbconvert_exporter": "python",
   "pygments_lexer": "ipython2",
   "version": "2.7.6"
  }
 },
 "nbformat": 4,
 "nbformat_minor": 5
}
