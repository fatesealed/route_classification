{
 "cells": [
  {
   "cell_type": "code",
   "execution_count": 2,
   "id": "initial_id",
   "metadata": {
    "collapsed": true,
    "ExecuteTime": {
     "end_time": "2023-11-20T08:49:29.238951100Z",
     "start_time": "2023-11-20T08:49:23.844342600Z"
    }
   },
   "outputs": [],
   "source": [
    "from importlib import import_module\n",
    "\n",
    "from torch.utils.data import DataLoader\n",
    "\n",
    "from train_eval import test\n",
    "from utils import CustomDataset, DataConfig"
   ]
  },
  {
   "cell_type": "code",
   "execution_count": 3,
   "outputs": [],
   "source": [
    "def call(model_path, model_name='TextCNN', dataset='ship_data',\n",
    "         embedding='embedding.npz'):\n",
    "    model_module = import_module(f'models.{model_name}')\n",
    "    model_config = model_module.Config()\n",
    "    data_config = DataConfig(dataset, embedding)\n",
    "    test_dataset = CustomDataset(data_config, data_class='test')\n",
    "    test_loader = DataLoader(test_dataset, batch_size=model_config.batch_size)\n",
    "\n",
    "    model = model_module.Model(model_config, data_config).to(data_config.device)\n",
    "\n",
    "    test(data_config, model, test_loader, model_path)"
   ],
   "metadata": {
    "collapsed": false,
    "ExecuteTime": {
     "end_time": "2023-11-20T08:49:29.244601500Z",
     "start_time": "2023-11-20T08:49:29.242030600Z"
    }
   },
   "id": "8284de816861554b"
  },
  {
   "cell_type": "code",
   "execution_count": 5,
   "outputs": [
    {
     "name": "stdout",
     "output_type": "stream",
     "text": [
      "Test Loss:   0.2,  Test Acc: 93.70%\n",
      "Precision, Recall and F1-Score...\n",
      "              precision    recall  f1-score   support\n",
      "\n",
      "        散杂货船     0.9066    0.9510    0.9282     44333\n",
      "          渔船     0.9726    0.9852    0.9788     40276\n",
      "        集装箱船     0.9317    0.9120    0.9217     18656\n",
      "          油船     0.9568    0.7894    0.8651      6458\n",
      "       液体散货船     0.9280    0.7449    0.8264      5919\n",
      "\n",
      "    accuracy                         0.9370    115642\n",
      "   macro avg     0.9391    0.8765    0.9041    115642\n",
      "weighted avg     0.9375    0.9370    0.9361    115642\n",
      "\n",
      "Confusion Matrix...\n",
      "[[42160   897   961   139   176]\n",
      " [  559 39678    20     9    10]\n",
      " [ 1520    59 17014     6    57]\n",
      " [ 1139    93    29  5098    99]\n",
      " [ 1127    70   237    76  4409]]\n"
     ]
    }
   ],
   "source": [
    "call(model_path='./result/TextCNN_2embedding_not_freezze.ckpt')"
   ],
   "metadata": {
    "collapsed": false,
    "ExecuteTime": {
     "end_time": "2023-11-20T08:56:22.292439200Z",
     "start_time": "2023-11-20T08:56:13.889530100Z"
    }
   },
   "id": "8c7a0b1ebdcb955a"
  },
  {
   "cell_type": "code",
   "execution_count": null,
   "outputs": [],
   "source": [],
   "metadata": {
    "collapsed": false
   },
   "id": "72d2ec64e889b213"
  }
 ],
 "metadata": {
  "kernelspec": {
   "display_name": "Python 3",
   "language": "python",
   "name": "python3"
  },
  "language_info": {
   "codemirror_mode": {
    "name": "ipython",
    "version": 2
   },
   "file_extension": ".py",
   "mimetype": "text/x-python",
   "name": "python",
   "nbconvert_exporter": "python",
   "pygments_lexer": "ipython2",
   "version": "2.7.6"
  }
 },
 "nbformat": 4,
 "nbformat_minor": 5
}
