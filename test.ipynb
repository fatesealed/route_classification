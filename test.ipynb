{
 "cells": [
  {
   "cell_type": "code",
   "execution_count": 3,
   "outputs": [],
   "source": [
    "import torch\n",
    "import pandas as pd\n",
    "import numpy as np\n",
    "from torch.utils.data import Dataset, DataLoader, random_split\n",
    "import pickle as pkl\n",
    "import tqdm\n",
    "import models.TextCNN as model\n",
    "\n",
    "np.random.seed(3407)\n",
    "torch.manual_seed(3407)\n",
    "torch.cuda.manual_seed_all(3407)\n",
    "torch.backends.cudnn.deterministic = True  # 保证每次结果一样\n",
    "torch.backends.cudnn.benchmark = False\n",
    "UNK, PAD = '<UNK>', '<PAD>'  # 未知字，padding符号"
   ],
   "metadata": {
    "collapsed": false,
    "ExecuteTime": {
     "end_time": "2023-11-07T03:51:04.266034600Z",
     "start_time": "2023-11-07T03:51:04.255299600Z"
    }
   },
   "id": "b0570a3e0c8f1240"
  },
  {
   "cell_type": "code",
   "execution_count": 4,
   "outputs": [],
   "source": [
    "config = model.Config('ship_data', 'embedding.npz')"
   ],
   "metadata": {
    "collapsed": false,
    "ExecuteTime": {
     "end_time": "2023-11-07T03:51:06.184051500Z",
     "start_time": "2023-11-07T03:51:06.140101600Z"
    }
   },
   "id": "3b301ca6a7831b02"
  },
  {
   "cell_type": "code",
   "execution_count": 34,
   "outputs": [],
   "source": [
    "# 自定义数据集类，需要实现__len__和__getitem__方法\n",
    "class CustomDataset(Dataset):\n",
    "    def __init__(self, data_path, pad_size):\n",
    "        tokenizer = lambda x: x.split('|')  # word-level\n",
    "        vocab = pkl.load(open(config.vocab_path, 'rb'))  # 打开词表\n",
    "        print(f\"词表大小: {len(vocab)}\")\n",
    "        class_int_dict = {item: i + 1 for i, item in enumerate(config.class_list)}\n",
    "        df = pd.read_csv(data_path, usecols=['path', 'cluster'])  # 读取csv\n",
    "        contents = []\n",
    "        for index, row in df.iterrows():\n",
    "            content, label = row['path'], row['cluster']\n",
    "            token = tokenizer(content)\n",
    "            seq_len = len(token)\n",
    "            if pad_size:  # 统一长度\n",
    "                if seq_len < pad_size:\n",
    "                    token.extend([PAD] * (pad_size - len(token)))\n",
    "                else:\n",
    "                    token = token[:pad_size]\n",
    "                    seq_len = pad_size\n",
    "            words_line = []\n",
    "            for word in token:\n",
    "                words_line.append(vocab.get(word, vocab.get(UNK)))\n",
    "            contents.append((words_line, class_int_dict[label], seq_len))\n",
    "        self.data = contents \n",
    "\n",
    "    def __len__(self):\n",
    "        return len(self.data)\n",
    "\n",
    "    def __getitem__(self, i):\n",
    "        return torch.LongTensor(self.data[i][0]),self.data[i][1],self.data[i][2]\n"
   ],
   "metadata": {
    "collapsed": false,
    "ExecuteTime": {
     "end_time": "2023-11-07T04:02:03.979097Z",
     "start_time": "2023-11-07T04:02:03.967734200Z"
    }
   },
   "id": "4893f94c381dbdb1"
  },
  {
   "cell_type": "code",
   "execution_count": 35,
   "outputs": [
    {
     "name": "stdout",
     "output_type": "stream",
     "text": [
      "词表大小: 727\n"
     ]
    }
   ],
   "source": [
    "# 创建自定义数据集\n",
    "dataset = CustomDataset(data_path='./ship_data/test.csv', pad_size=30)\n",
    "\n",
    "# 定义拆分比例\n",
    "train_size = int(0.9 * len(dataset))\n",
    "val_size = int(0.05 * len(dataset))\n",
    "test_size = len(dataset) - train_size - val_size\n",
    "\n",
    "# 使用random_split函数拆分数据集\n",
    "train_dataset, val_dataset, test_dataset = random_split(dataset, [train_size, val_size, test_size])\n",
    "\n",
    "# 创建数据加载器\n",
    "train_loader = DataLoader(train_dataset, batch_size=2, shuffle=True)\n",
    "val_loader = DataLoader(val_dataset, batch_size=2)\n",
    "test_loader = DataLoader(test_dataset, batch_size=2)\n",
    "\n",
    "# 现在，你可以使用train_loader、val_loader和test_loader来迭代你的数据集进行训练、验证和测试。"
   ],
   "metadata": {
    "collapsed": false,
    "ExecuteTime": {
     "end_time": "2023-11-07T04:02:04.326578400Z",
     "start_time": "2023-11-07T04:02:04.316155700Z"
    }
   },
   "id": "72dec1e8b9dcf479"
  },
  {
   "cell_type": "code",
   "execution_count": 37,
   "outputs": [
    {
     "name": "stdout",
     "output_type": "stream",
     "text": [
      "tensor([[ 96,  96, 281, 271, 248, 235, 203, 168, 112, 726, 726, 726, 726, 726,\n",
      "         726, 726, 726, 726, 726, 726, 726, 726, 726, 726, 726, 726, 726, 726,\n",
      "         726, 726],\n",
      "        [ 74,   4,   2,   2,  14,  35, 229, 340, 347, 327, 315, 279, 304,  81,\n",
      "         726, 726, 726, 726, 726, 726, 726, 726, 726, 726, 726, 726, 726, 726,\n",
      "         726, 726]]) tensor([3, 1]) tensor([ 9, 14])\n"
     ]
    }
   ],
   "source": [
    "for i, (x, y, _) in enumerate(train_loader):\n",
    "    print(x,y,_)\n",
    "    break"
   ],
   "metadata": {
    "collapsed": false,
    "ExecuteTime": {
     "end_time": "2023-11-07T04:02:14.500180800Z",
     "start_time": "2023-11-07T04:02:14.488363500Z"
    }
   },
   "id": "cc11cc75b7b9b975"
  },
  {
   "cell_type": "code",
   "execution_count": 3,
   "outputs": [],
   "source": [
    "# 定义拆分比例\n",
    "train_size = int(0.9 * len(data))\n",
    "val_size = int(0.05 * len(data))\n",
    "test_size = len(data) - train_size - val_size\n",
    "\n",
    "# 使用random_split函数拆分数据集\n",
    "train_dataset, val_dataset, test_dataset = random_split(data, [train_size, val_size, test_size])"
   ],
   "metadata": {
    "collapsed": false,
    "ExecuteTime": {
     "end_time": "2023-11-07T02:07:36.631670800Z",
     "start_time": "2023-11-07T02:07:36.629165200Z"
    }
   },
   "id": "f61979da073c225d"
  },
  {
   "cell_type": "code",
   "execution_count": 186,
   "outputs": [],
   "source": [
    "train_loader = DataLoader(train_dataset, batch_size=3, shuffle=True)\n",
    "val_loader = DataLoader(val_dataset, batch_size=3)\n",
    "test_loader = DataLoader(test_dataset, batch_size=3)"
   ],
   "metadata": {
    "collapsed": false,
    "ExecuteTime": {
     "end_time": "2023-11-07T03:32:21.454045200Z",
     "start_time": "2023-11-07T03:32:21.450784900Z"
    }
   },
   "id": "85ba97e72fd9af23"
  },
  {
   "cell_type": "code",
   "execution_count": 195,
   "outputs": [
    {
     "data": {
      "text/plain": "int"
     },
     "execution_count": 195,
     "metadata": {},
     "output_type": "execute_result"
    }
   ],
   "source": [
    "type(train_dataset[0][2])"
   ],
   "metadata": {
    "collapsed": false,
    "ExecuteTime": {
     "end_time": "2023-11-07T03:35:58.361150600Z",
     "start_time": "2023-11-07T03:35:58.359147400Z"
    }
   },
   "id": "a1b288b995edb683"
  },
  {
   "cell_type": "markdown",
   "source": [],
   "metadata": {
    "collapsed": false
   },
   "id": "5d04dd07065e1bc6"
  },
  {
   "cell_type": "code",
   "execution_count": 184,
   "outputs": [
    {
     "data": {
      "text/plain": "30"
     },
     "execution_count": 184,
     "metadata": {},
     "output_type": "execute_result"
    }
   ],
   "source": [
    "len(train_dataset[0][0])"
   ],
   "metadata": {
    "collapsed": false,
    "ExecuteTime": {
     "end_time": "2023-11-07T03:28:48.201177700Z",
     "start_time": "2023-11-07T03:28:48.194910300Z"
    }
   },
   "id": "83498486933552c8"
  },
  {
   "cell_type": "code",
   "execution_count": null,
   "outputs": [],
   "source": [],
   "metadata": {
    "collapsed": false
   },
   "id": "7356afec4a9de110"
  }
 ],
 "metadata": {
  "kernelspec": {
   "display_name": "Python 3",
   "language": "python",
   "name": "python3"
  },
  "language_info": {
   "codemirror_mode": {
    "name": "ipython",
    "version": 2
   },
   "file_extension": ".py",
   "mimetype": "text/x-python",
   "name": "python",
   "nbconvert_exporter": "python",
   "pygments_lexer": "ipython2",
   "version": "2.7.6"
  }
 },
 "nbformat": 4,
 "nbformat_minor": 5
}
