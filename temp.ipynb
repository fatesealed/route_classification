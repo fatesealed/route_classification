{
 "cells": [
  {
   "cell_type": "code",
   "execution_count": 1,
   "outputs": [],
   "source": [
    "import numpy as np\n",
    "import torch\n",
    "import torch.nn as nn\n",
    "\n",
    "import models.TextRNN_Att as model\n",
    "from utils import DataConfig\n",
    "\n",
    "np.random.seed(3407)\n",
    "torch.manual_seed(3407)\n",
    "torch.cuda.manual_seed_all(3407)\n",
    "torch.backends.cudnn.deterministic = True  # 保证每次结果一样\n",
    "torch.backends.cudnn.benchmark = False\n",
    "UNK, PAD = '<UNK>', '<PAD>'  # 未知字，padding符号"
   ],
   "metadata": {
    "collapsed": false,
    "ExecuteTime": {
     "end_time": "2023-11-30T16:44:48.046406300Z",
     "start_time": "2023-11-30T16:44:44.369710600Z"
    }
   },
   "id": "b0570a3e0c8f1240"
  },
  {
   "cell_type": "code",
   "execution_count": 2,
   "outputs": [],
   "source": [
    "data_config = DataConfig('100d', 'word2vec')\n",
    "model_config = model.ModelConfig()"
   ],
   "metadata": {
    "collapsed": false,
    "ExecuteTime": {
     "end_time": "2023-11-30T16:44:48.107065300Z",
     "start_time": "2023-11-30T16:44:48.026402900Z"
    }
   },
   "id": "3b301ca6a7831b02"
  },
  {
   "cell_type": "code",
   "execution_count": 21,
   "outputs": [],
   "source": [
    "import torch.nn.functional as F\n",
    "class Model(nn.Module):\n",
    "    def __init__(self, model_config, data_config):\n",
    "        super(Model, self).__init__()\n",
    "        self.embedding = nn.Embedding.from_pretrained(\n",
    "            data_config.embedding_pretrained,\n",
    "            freeze=False) if data_config.embedding_pretrained is not None else nn.Embedding(data_config.n_vocab,\n",
    "                                                                                            data_config.embed,\n",
    "                                                                                            padding_idx=data_config.n_vocab - 1)\n",
    "        self.embedding_freeze = nn.Embedding.from_pretrained(\n",
    "            data_config.embedding_pretrained,\n",
    "            freeze=True) if data_config.embedding_pretrained is not None else nn.Embedding(data_config.n_vocab,\n",
    "                                                                                           data_config.embed,\n",
    "                                                                                           padding_idx=data_config.n_vocab - 1)\n",
    "        self.lstm = nn.LSTM(data_config.embed * 2, model_config.hidden_size, model_config.num_layers,\n",
    "                            bidirectional=True, batch_first=True, dropout=model_config.dropout)\n",
    "        # self.u = nn.Parameter(torch.Tensor(config.hidden_size * 2, config.hidden_size * 2))\n",
    "        self.w = nn.Parameter(torch.rand(model_config.hidden_size * 2))\n",
    "        self.fc = nn.Linear(model_config.hidden_size * 2, model_config.hidden_size)\n",
    "        self.fc2 = nn.Linear(model_config.hidden_size, data_config.num_classes)\n",
    "        self.mutilatte = nn.MultiheadAttention(embed_dim=model_config.hidden_size * 2, num_heads=8, batch_first=True)\n",
    "\n",
    "    def forward(self, x):\n",
    "        emb_x = torch.cat([self.embedding(x), self.embedding_freeze(x)],\n",
    "                          dim=2)  # [batch_size, seq_len, embeding]=[128, 32, 300]\n",
    "        H, _ = self.lstm(emb_x)  # [batch_size, seq_len, hidden_size * num_direction]=[128, 32, 256]\n",
    "\n",
    "        # M = F.relu(H)  # [128, 32, 256]\n",
    "        # alpha = F.softmax(torch.matmul(M, self.w), dim=1).unsqueeze(-1)  # [128, 32, 1]\n",
    "        # out = H * alpha  # [128, 32, 256]\n",
    "\n",
    "        # 👆原始实现 👇pytorch版\n",
    "\n",
    "        out, _ = self.mutilatte(H, H, H)\n",
    "        out = torch.sum(out, dim=1)  # 求和\n",
    "        out = F.relu(out)\n",
    "        out = self.fc(out)  # [128, 64]\n",
    "        out = self.fc2(out)\n",
    "        return out\n"
   ],
   "metadata": {
    "collapsed": false,
    "ExecuteTime": {
     "end_time": "2023-11-30T16:46:11.468621500Z",
     "start_time": "2023-11-30T16:46:11.442122100Z"
    }
   },
   "id": "7356afec4a9de110"
  },
  {
   "cell_type": "code",
   "execution_count": 22,
   "outputs": [],
   "source": [
    "model = Model(model_config, data_config).to(data_config.device)"
   ],
   "metadata": {
    "collapsed": false,
    "ExecuteTime": {
     "end_time": "2023-11-30T16:46:11.834527900Z",
     "start_time": "2023-11-30T16:46:11.757668900Z"
    }
   },
   "id": "d0df6d80876a031a"
  },
  {
   "cell_type": "code",
   "execution_count": 23,
   "outputs": [
    {
     "name": "stdout",
     "output_type": "stream",
     "text": [
      "torch.Size([2, 30, 512])\n"
     ]
    },
    {
     "data": {
      "text/plain": "torch.Size([2, 5])"
     },
     "execution_count": 23,
     "metadata": {},
     "output_type": "execute_result"
    }
   ],
   "source": [
    "model(torch.randint(1, 10, [2, 30]).to(data_config.device)).size()"
   ],
   "metadata": {
    "collapsed": false,
    "ExecuteTime": {
     "end_time": "2023-11-30T16:46:11.977591Z",
     "start_time": "2023-11-30T16:46:11.959010600Z"
    }
   },
   "id": "aaffb22c7d469f51"
  },
  {
   "cell_type": "code",
   "execution_count": 24,
   "outputs": [],
   "source": [
    "def init_network(model, method='xavier', exclude='embedding'):\n",
    "    for name, w in model.named_parameters():\n",
    "        if exclude not in name:  # 如果不是嵌入层\n",
    "            if 'weight' in name:  # weight 三种初始化方式\n",
    "                if method == 'xavier' and len(w.size() < 2):\n",
    "                    nn.init.xavier_normal_(w)\n",
    "                elif method == 'kaiming':\n",
    "                    nn.init.kaiming_normal_(w)\n",
    "                else:\n",
    "                    nn.init.normal_(w)\n",
    "            elif 'bias' in name:  # bias 置0\n",
    "                nn.init.constant_(w, 0)\n",
    "            else:\n",
    "                pass"
   ],
   "metadata": {
    "collapsed": false,
    "ExecuteTime": {
     "end_time": "2023-11-30T16:46:12.273724400Z",
     "start_time": "2023-11-30T16:46:12.258718900Z"
    }
   },
   "id": "95f15fb82b21ae5d"
  },
  {
   "cell_type": "code",
   "execution_count": 23,
   "outputs": [],
   "source": [
    "init_network(model)"
   ],
   "metadata": {
    "collapsed": false,
    "ExecuteTime": {
     "end_time": "2023-11-22T01:57:32.546081Z",
     "start_time": "2023-11-22T01:57:32.536574500Z"
    }
   },
   "id": "66db72222568e3af"
  },
  {
   "cell_type": "code",
   "execution_count": 14,
   "outputs": [
    {
     "data": {
      "text/plain": "==========================================================================================\nLayer (type:depth-idx)                   Output Shape              Param #\n==========================================================================================\nModel                                    [1, 5]                    --\n├─Embedding: 1-1                         [1, 30, 100]              72,700\n├─Linear: 1-2                            [1, 5]                    15,005\n==========================================================================================\nTotal params: 87,705\nTrainable params: 87,705\nNon-trainable params: 0\nTotal mult-adds (Units.MEGABYTES): 0.09\n==========================================================================================\nInput size (MB): 0.00\nForward/backward pass size (MB): 0.02\nParams size (MB): 0.35\nEstimated Total Size (MB): 0.38\n=========================================================================================="
     },
     "execution_count": 14,
     "metadata": {},
     "output_type": "execute_result"
    }
   ],
   "source": [
    "from torchinfo import summary\n",
    "\n",
    "summary(model, input_size=(1, 30), dtypes=[torch.long])"
   ],
   "metadata": {
    "collapsed": false,
    "ExecuteTime": {
     "end_time": "2023-11-29T09:45:07.145415500Z",
     "start_time": "2023-11-29T09:45:07.139159800Z"
    }
   },
   "id": "237c62d2a30fbecf"
  },
  {
   "cell_type": "code",
   "execution_count": null,
   "outputs": [],
   "source": [
    "import pandas as pd\n",
    "from sklearn.model_selection import train_test_split\n",
    "\n",
    "# 读取CSV文件\n",
    "df = pd.read_csv('./ship_data/experiment_data.csv')  # 替换为你的CSV文件路径\n",
    "\n",
    "# 划分数据集\n",
    "train_df, temp_df = train_test_split(df, test_size=0.1, random_state=3407)\n",
    "val_df, test_df = train_test_split(temp_df, test_size=0.5, random_state=3407)\n",
    "\n",
    "# 保存划分后的数据集为新的CSV文件\n",
    "train_df.to_csv('train_dataset.csv', index=False)\n",
    "val_df.to_csv('val_dataset.csv', index=False)\n",
    "test_df.to_csv('test_dataset.csv', index=False)\n"
   ],
   "metadata": {
    "collapsed": false
   },
   "id": "7af81258ec20d49a"
  },
  {
   "cell_type": "code",
   "execution_count": 100,
   "outputs": [
    {
     "name": "stdout",
     "output_type": "stream",
     "text": [
      "torch.Size([2, 30, 99])\n"
     ]
    }
   ],
   "source": [
    "import torch\n",
    "import torch.nn.functional as F\n",
    "\n",
    "# 假设你的输入是一个大小为[2, 30, 100]的tensor\n",
    "input_tensor = torch.randn(2, 30, 100)\n",
    "\n",
    "# 执行最大池化操作，保留最大的两个值\n",
    "output_tensor = F.max_pool1d(input_tensor, kernel_size=2, stride=1)\n",
    "\n",
    "print(output_tensor.shape)  # 输出应为[2, 2, 100]\n"
   ],
   "metadata": {
    "collapsed": false,
    "ExecuteTime": {
     "end_time": "2023-11-29T04:47:21.523691200Z",
     "start_time": "2023-11-29T04:47:21.514547300Z"
    }
   },
   "id": "c8bbd295da22dd87"
  },
  {
   "cell_type": "code",
   "execution_count": null,
   "outputs": [],
   "source": [],
   "metadata": {
    "collapsed": false
   },
   "id": "8a9a28c38ba1a9bd"
  }
 ],
 "metadata": {
  "kernelspec": {
   "display_name": "Python 3",
   "language": "python",
   "name": "python3"
  },
  "language_info": {
   "codemirror_mode": {
    "name": "ipython",
    "version": 2
   },
   "file_extension": ".py",
   "mimetype": "text/x-python",
   "name": "python",
   "nbconvert_exporter": "python",
   "pygments_lexer": "ipython2",
   "version": "2.7.6"
  }
 },
 "nbformat": 4,
 "nbformat_minor": 5
}
