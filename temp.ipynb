{
 "cells": [
  {
   "cell_type": "code",
   "execution_count": 57,
   "outputs": [],
   "source": [
    "import numpy as np\n",
    "import torch\n",
    "import torch.nn as nn\n",
    "import torch.nn.functional as F\n",
    "\n",
    "import models.TextRCNN as model\n",
    "from utils import DataConfig\n",
    "\n",
    "np.random.seed(3407)\n",
    "torch.manual_seed(3407)\n",
    "torch.cuda.manual_seed_all(3407)\n",
    "torch.backends.cudnn.deterministic = True  # 保证每次结果一样\n",
    "torch.backends.cudnn.benchmark = False\n",
    "UNK, PAD = '<UNK>', '<PAD>'  # 未知字，padding符号"
   ],
   "metadata": {
    "collapsed": false,
    "ExecuteTime": {
     "end_time": "2023-11-29T03:16:01.237124900Z",
     "start_time": "2023-11-29T03:16:01.233617600Z"
    }
   },
   "id": "b0570a3e0c8f1240"
  },
  {
   "cell_type": "code",
   "execution_count": 58,
   "outputs": [],
   "source": [
    "data_config = DataConfig('100d', 'word2vec')\n",
    "model_config = model.ModelConfig()"
   ],
   "metadata": {
    "collapsed": false,
    "ExecuteTime": {
     "end_time": "2023-11-29T03:16:01.448011100Z",
     "start_time": "2023-11-29T03:16:01.441918400Z"
    }
   },
   "id": "3b301ca6a7831b02"
  },
  {
   "cell_type": "code",
   "execution_count": 97,
   "outputs": [],
   "source": [
    "class Model(nn.Module):\n",
    "    def __init__(self, model_config, data_config):\n",
    "        super(Model, self).__init__()\n",
    "        self.embedding = nn.Embedding.from_pretrained(\n",
    "            data_config.embedding_pretrained,\n",
    "            freeze=False) if data_config.embedding_pretrained is not None else nn.Embedding(data_config.n_vocab,\n",
    "                                                                                            data_config.embed,\n",
    "                                                                                            padding_idx=data_config.n_vocab - 1)\n",
    "        self.lstm = nn.LSTM(data_config.embed, model_config.hidden_size, model_config.num_layers,\n",
    "                            bidirectional=True, batch_first=True, dropout=model_config.dropout)\n",
    "        self.fc = nn.Linear(model_config.hidden_size * 2 + data_config.embed, data_config.num_classes)\n",
    "\n",
    "    def forward(self, x):\n",
    "        embed = self.embedding(x)  # [batch_size, seq_len, embeding]=[64, 32, 64]\n",
    "        out, _ = self.lstm(embed)\n",
    "        out = torch.cat((embed, out), 2)\n",
    "        out = F.relu(out)\n",
    "        out = out.permute(0, 2, 1)\n",
    "        _, top_indices = torch.topk(out, k=1, dim=2)\n",
    "        out = torch.gather(out, 1, top_indices).squeeze()\n",
    "        out = self.fc(out)\n",
    "        return out\n",
    "\n"
   ],
   "metadata": {
    "collapsed": false,
    "ExecuteTime": {
     "end_time": "2023-11-29T03:33:48.988434500Z",
     "start_time": "2023-11-29T03:33:48.984928300Z"
    }
   },
   "id": "7356afec4a9de110"
  },
  {
   "cell_type": "code",
   "execution_count": 98,
   "outputs": [],
   "source": [
    "model = Model(model_config, data_config).to(data_config.device)"
   ],
   "metadata": {
    "collapsed": false,
    "ExecuteTime": {
     "end_time": "2023-11-29T03:33:49.794787600Z",
     "start_time": "2023-11-29T03:33:49.756361900Z"
    }
   },
   "id": "d0df6d80876a031a"
  },
  {
   "cell_type": "code",
   "execution_count": 99,
   "outputs": [
    {
     "data": {
      "text/plain": "tensor([[ 0.2476,  0.1735, -0.1111,  0.0347, -0.0054],\n        [ 0.0092,  0.0929, -0.1043,  0.0915,  0.0131]], device='cuda:0',\n       grad_fn=<AddmmBackward0>)"
     },
     "execution_count": 99,
     "metadata": {},
     "output_type": "execute_result"
    }
   ],
   "source": [
    "model(torch.randint(1, 10, [2, 30]).to(data_config.device))"
   ],
   "metadata": {
    "collapsed": false,
    "ExecuteTime": {
     "end_time": "2023-11-29T03:33:53.490605700Z",
     "start_time": "2023-11-29T03:33:53.430716Z"
    }
   },
   "id": "aaffb22c7d469f51"
  },
  {
   "cell_type": "code",
   "execution_count": 90,
   "outputs": [],
   "source": [
    "def init_network(model, method='xavier', exclude='embedding'):\n",
    "    for name, w in model.named_parameters():\n",
    "        if exclude not in name:  # 如果不是嵌入层\n",
    "            if 'weight' in name:  # weight 三种初始化方式\n",
    "                if method == 'xavier' and len(w.size() < 2):\n",
    "                    nn.init.xavier_normal_(w)\n",
    "                elif method == 'kaiming':\n",
    "                    nn.init.kaiming_normal_(w)\n",
    "                else:\n",
    "                    nn.init.normal_(w)\n",
    "            elif 'bias' in name:  # bias 置0\n",
    "                nn.init.constant_(w, 0)\n",
    "            else:\n",
    "                pass"
   ],
   "metadata": {
    "collapsed": false,
    "ExecuteTime": {
     "end_time": "2023-11-29T03:27:17.569003400Z",
     "start_time": "2023-11-29T03:27:17.563405100Z"
    }
   },
   "id": "95f15fb82b21ae5d"
  },
  {
   "cell_type": "code",
   "execution_count": 23,
   "outputs": [],
   "source": [
    "init_network(model)"
   ],
   "metadata": {
    "collapsed": false,
    "ExecuteTime": {
     "end_time": "2023-11-22T01:57:32.546081Z",
     "start_time": "2023-11-22T01:57:32.536574500Z"
    }
   },
   "id": "66db72222568e3af"
  },
  {
   "cell_type": "code",
   "execution_count": 78,
   "outputs": [
    {
     "data": {
      "text/plain": "==========================================================================================\nLayer (type:depth-idx)                   Output Shape              Param #\n==========================================================================================\nModel                                    [5]                       --\n├─Embedding: 1-1                         [1, 30, 100]              72,700\n├─LSTM: 1-2                              [1, 30, 512]              2,310,144\n├─MaxPool1d: 1-3                         [1, 612, 1]               --\n├─Linear: 1-4                            [5]                       3,065\n==========================================================================================\nTotal params: 2,385,909\nTrainable params: 2,385,909\nNon-trainable params: 0\nTotal mult-adds (Units.MEGABYTES): 69.39\n==========================================================================================\nInput size (MB): 0.00\nForward/backward pass size (MB): 0.15\nParams size (MB): 9.54\nEstimated Total Size (MB): 9.69\n=========================================================================================="
     },
     "execution_count": 78,
     "metadata": {},
     "output_type": "execute_result"
    }
   ],
   "source": [
    "from torchinfo import summary\n",
    "\n",
    "summary(model, input_size=(1, 30), dtypes=[torch.long])"
   ],
   "metadata": {
    "collapsed": false,
    "ExecuteTime": {
     "end_time": "2023-11-29T03:17:11.524879200Z",
     "start_time": "2023-11-29T03:17:11.501353100Z"
    }
   },
   "id": "237c62d2a30fbecf"
  },
  {
   "cell_type": "code",
   "execution_count": null,
   "outputs": [],
   "source": [
    "import pandas as pd\n",
    "from sklearn.model_selection import train_test_split\n",
    "\n",
    "# 读取CSV文件\n",
    "df = pd.read_csv('./ship_data/experiment_data.csv')  # 替换为你的CSV文件路径\n",
    "\n",
    "# 划分数据集\n",
    "train_df, temp_df = train_test_split(df, test_size=0.1, random_state=3407)\n",
    "val_df, test_df = train_test_split(temp_df, test_size=0.5, random_state=3407)\n",
    "\n",
    "# 保存划分后的数据集为新的CSV文件\n",
    "train_df.to_csv('train_dataset.csv', index=False)\n",
    "val_df.to_csv('val_dataset.csv', index=False)\n",
    "test_df.to_csv('test_dataset.csv', index=False)\n"
   ],
   "metadata": {
    "collapsed": false
   },
   "id": "7af81258ec20d49a"
  },
  {
   "cell_type": "code",
   "execution_count": 100,
   "outputs": [
    {
     "name": "stdout",
     "output_type": "stream",
     "text": [
      "torch.Size([2, 30, 99])\n"
     ]
    }
   ],
   "source": [
    "import torch\n",
    "import torch.nn.functional as F\n",
    "\n",
    "# 假设你的输入是一个大小为[2, 30, 100]的tensor\n",
    "input_tensor = torch.randn(2, 30, 100)\n",
    "\n",
    "# 执行最大池化操作，保留最大的两个值\n",
    "output_tensor = F.max_pool1d(input_tensor, kernel_size=2, stride=1)\n",
    "\n",
    "print(output_tensor.shape)  # 输出应为[2, 2, 100]\n"
   ],
   "metadata": {
    "collapsed": false,
    "ExecuteTime": {
     "end_time": "2023-11-29T04:47:21.523691200Z",
     "start_time": "2023-11-29T04:47:21.514547300Z"
    }
   },
   "id": "c8bbd295da22dd87"
  },
  {
   "cell_type": "code",
   "execution_count": null,
   "outputs": [],
   "source": [],
   "metadata": {
    "collapsed": false
   },
   "id": "8a9a28c38ba1a9bd"
  }
 ],
 "metadata": {
  "kernelspec": {
   "display_name": "Python 3",
   "language": "python",
   "name": "python3"
  },
  "language_info": {
   "codemirror_mode": {
    "name": "ipython",
    "version": 2
   },
   "file_extension": ".py",
   "mimetype": "text/x-python",
   "name": "python",
   "nbconvert_exporter": "python",
   "pygments_lexer": "ipython2",
   "version": "2.7.6"
  }
 },
 "nbformat": 4,
 "nbformat_minor": 5
}
