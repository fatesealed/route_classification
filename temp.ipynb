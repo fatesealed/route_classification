{
 "cells": [
  {
   "cell_type": "code",
   "execution_count": 1,
   "outputs": [],
   "source": [
    "import numpy as np\n",
    "import torch\n",
    "\n",
    "import models.TextCNN as model\n",
    "from utils import DataConfig\n",
    "\n",
    "np.random.seed(3407)\n",
    "torch.manual_seed(3407)\n",
    "torch.cuda.manual_seed_all(3407)\n",
    "torch.backends.cudnn.deterministic = True  # 保证每次结果一样\n",
    "torch.backends.cudnn.benchmark = False\n",
    "UNK, PAD = '<UNK>', '<PAD>'  # 未知字，padding符号"
   ],
   "metadata": {
    "collapsed": false,
    "ExecuteTime": {
     "end_time": "2023-11-20T09:13:06.939584300Z",
     "start_time": "2023-11-20T09:13:04.675299300Z"
    }
   },
   "id": "b0570a3e0c8f1240"
  },
  {
   "cell_type": "code",
   "execution_count": 2,
   "outputs": [],
   "source": [
    "data_config = DataConfig('ship_data', 'embedding.npz')\n",
    "model_config = model.Config()"
   ],
   "metadata": {
    "collapsed": false,
    "ExecuteTime": {
     "end_time": "2023-11-20T09:13:06.985185700Z",
     "start_time": "2023-11-20T09:13:06.941584800Z"
    }
   },
   "id": "3b301ca6a7831b02"
  },
  {
   "cell_type": "code",
   "execution_count": 3,
   "outputs": [],
   "source": [
    "import torch\n",
    "import torch.nn as nn\n",
    "import torch.nn.functional as f\n",
    "\n",
    "\n",
    "\n",
    "def conv_and_pool(x, conv):\n",
    "    x = f.relu(conv(x))\n",
    "    x = x.squeeze(3)\n",
    "    x = f.max_pool1d(x, x.size(2)).squeeze(2)\n",
    "    return x\n",
    "\n",
    "\n",
    "class Model(nn.Module):\n",
    "    def __init__(self, model_config, data_config):\n",
    "        super(Model, self).__init__()\n",
    "        if data_config.embedding_pretrained is not None:\n",
    "            self.embedding_1 = nn.Embedding.from_pretrained(data_config.embedding_pretrained, freeze=False)\n",
    "        else:\n",
    "            self.embedding_1 = nn.Embedding(data_config.n_vocab, data_config.embed,\n",
    "                                            padding_idx=data_config.n_vocab - 1)\n",
    "        self.convs = nn.ModuleList(\n",
    "            [nn.Conv2d(1, model_config.num_filters, (k, data_config.embed)) for k in model_config.filter_sizes])\n",
    "        self.dropout = nn.Dropout(model_config.dropout)\n",
    "        self.fc_layers = nn.Sequential(\n",
    "            nn.Linear(model_config.num_filters * len(model_config.filter_sizes),\n",
    "                      model_config.num_filters * len(model_config.filter_sizes) // 2),\n",
    "            nn.Linear(model_config.num_filters * len(model_config.filter_sizes) // 2,\n",
    "                      model_config.num_filters * len(model_config.filter_sizes) // 4),\n",
    "            nn.Linear(model_config.num_filters * len(model_config.filter_sizes) // 4, data_config.num_classes))\n",
    "\n",
    "    def forward(self, x):\n",
    "        out = self.embedding_1(x)\n",
    "        out = out.unsqueeze(1)  # 插入维度 进行卷积运算\n",
    "        out = torch.cat([conv_and_pool(out, conv) for conv in self.convs], 1)\n",
    "        out = self.dropout(out)\n",
    "        out = self.fc_layers(out)\n",
    "        return out\n"
   ],
   "metadata": {
    "collapsed": false,
    "ExecuteTime": {
     "end_time": "2023-11-20T09:13:46.740743Z",
     "start_time": "2023-11-20T09:13:46.732742900Z"
    }
   },
   "id": "7356afec4a9de110"
  },
  {
   "cell_type": "code",
   "execution_count": 4,
   "outputs": [],
   "source": [
    "model = Model(model_config,data_config).to(data_config.device)"
   ],
   "metadata": {
    "collapsed": false,
    "ExecuteTime": {
     "end_time": "2023-11-20T09:13:47.301167500Z",
     "start_time": "2023-11-20T09:13:47.055084400Z"
    }
   },
   "id": "d0df6d80876a031a"
  },
  {
   "cell_type": "code",
   "execution_count": 5,
   "outputs": [
    {
     "data": {
      "text/plain": "torch.Size([64, 5])"
     },
     "execution_count": 5,
     "metadata": {},
     "output_type": "execute_result"
    }
   ],
   "source": [
    "model(torch.randint(1, 10, [64, 30]).to(data_config.device)).size()\n"
   ],
   "metadata": {
    "collapsed": false,
    "ExecuteTime": {
     "end_time": "2023-11-20T09:13:49.286472100Z",
     "start_time": "2023-11-20T09:13:47.734297700Z"
    }
   },
   "id": "b9cd53dec652800c"
  },
  {
   "cell_type": "code",
   "execution_count": 6,
   "outputs": [
    {
     "data": {
      "text/plain": "==========================================================================================\nLayer (type:depth-idx)                   Output Shape              Param #\n==========================================================================================\nModel                                    [1, 5]                    --\n├─Embedding: 1-1                         [1, 30, 100]              72,700\n├─ModuleList: 1-2                        --                        --\n│    └─Conv2d: 2-1                       [1, 256, 29, 1]           51,456\n│    └─Conv2d: 2-2                       [1, 256, 28, 1]           77,056\n│    └─Conv2d: 2-3                       [1, 256, 27, 1]           102,656\n│    └─Conv2d: 2-4                       [1, 256, 26, 1]           128,256\n├─Dropout: 1-3                           [1, 1024]                 --\n├─Sequential: 1-4                        [1, 5]                    --\n│    └─Linear: 2-5                       [1, 512]                  524,800\n│    └─Linear: 2-6                       [1, 256]                  131,328\n│    └─Linear: 2-7                       [1, 5]                    1,285\n==========================================================================================\nTotal params: 1,089,537\nTrainable params: 1,089,537\nNon-trainable params: 0\nTotal mult-adds (Units.MEGABYTES): 10.49\n==========================================================================================\nInput size (MB): 0.00\nForward/backward pass size (MB): 0.26\nParams size (MB): 4.36\nEstimated Total Size (MB): 4.61\n=========================================================================================="
     },
     "execution_count": 6,
     "metadata": {},
     "output_type": "execute_result"
    }
   ],
   "source": [
    "from torchinfo import summary\n",
    "\n",
    "summary(model, input_size=(1, 30),dtypes=[torch.long])"
   ],
   "metadata": {
    "collapsed": false,
    "ExecuteTime": {
     "end_time": "2023-11-20T09:13:51.463982500Z",
     "start_time": "2023-11-20T09:13:51.441536400Z"
    }
   },
   "id": "237c62d2a30fbecf"
  },
  {
   "cell_type": "code",
   "execution_count": null,
   "outputs": [],
   "source": [
    "import pandas as pd\n",
    "from sklearn.model_selection import train_test_split\n",
    "\n",
    "# 读取CSV文件\n",
    "df = pd.read_csv('./ship_data/experiment_data.csv')  # 替换为你的CSV文件路径\n",
    "\n",
    "# 划分数据集\n",
    "train_df, temp_df = train_test_split(df, test_size=0.1, random_state=3407)\n",
    "val_df, test_df = train_test_split(temp_df, test_size=0.5, random_state=3407)\n",
    "\n",
    "# 保存划分后的数据集为新的CSV文件\n",
    "train_df.to_csv('train_dataset.csv', index=False)\n",
    "val_df.to_csv('val_dataset.csv', index=False)\n",
    "test_df.to_csv('test_dataset.csv', index=False)\n"
   ],
   "metadata": {
    "collapsed": false
   },
   "id": "7af81258ec20d49a"
  },
  {
   "cell_type": "code",
   "execution_count": null,
   "outputs": [],
   "source": [],
   "metadata": {
    "collapsed": false
   },
   "id": "c8bbd295da22dd87"
  }
 ],
 "metadata": {
  "kernelspec": {
   "display_name": "Python 3",
   "language": "python",
   "name": "python3"
  },
  "language_info": {
   "codemirror_mode": {
    "name": "ipython",
    "version": 2
   },
   "file_extension": ".py",
   "mimetype": "text/x-python",
   "name": "python",
   "nbconvert_exporter": "python",
   "pygments_lexer": "ipython2",
   "version": "2.7.6"
  }
 },
 "nbformat": 4,
 "nbformat_minor": 5
}
